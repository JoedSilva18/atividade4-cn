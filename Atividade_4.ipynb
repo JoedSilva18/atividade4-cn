{
  "nbformat": 4,
  "nbformat_minor": 0,
  "metadata": {
    "colab": {
      "name": "Atividade_4.ipynb",
      "provenance": [],
      "collapsed_sections": [],
      "authorship_tag": "ABX9TyOR37IcWwx5sQDB2saBJYaT",
      "include_colab_link": true
    },
    "kernelspec": {
      "name": "python3",
      "display_name": "Python 3"
    }
  },
  "cells": [
    {
      "cell_type": "markdown",
      "metadata": {
        "id": "view-in-github",
        "colab_type": "text"
      },
      "source": [
        "<a href=\"https://colab.research.google.com/github/JoedSilva18/atividade4-cn/blob/main/Atividade_4.ipynb\" target=\"_parent\"><img src=\"https://colab.research.google.com/assets/colab-badge.svg\" alt=\"Open In Colab\"/></a>"
      ]
    },
    {
      "cell_type": "markdown",
      "metadata": {
        "id": "RH-YGGwS1Ue3"
      },
      "source": [
        "**Atividade 4 - Calculo numérico**\n",
        "\n",
        "(1) Considere a seguir três sistemas lineares de dimensão 6 do tipo Ax = b, sendo o vetor\n",
        "b = (1, 1, 1, 1, 1, 1)t , com matriz A = (aij )i,j=1,...,6 dada como segue em cada caso:\n"
      ]
    },
    {
      "cell_type": "markdown",
      "metadata": {
        "id": "D7BIJ6v6-bjg"
      },
      "source": [
        "**Função para verificar o critério das linhas**"
      ]
    },
    {
      "cell_type": "code",
      "metadata": {
        "id": "7EDBGcMY87by"
      },
      "source": [
        "import math\n",
        "\n",
        "def criterioLinhas(A):\n",
        "  print('Verificando criterio das linhas: \\n')\n",
        "\n",
        "  coeficientes = []\n",
        "  for i in range(len(A)):\n",
        "    somaCoef = 0\n",
        "    for j in range(len(A)):\n",
        "      if i != j:\n",
        "        # Somando todos os coeficientes\n",
        "        somaCoef += math.fabs(A[i][j])\n",
        "    # Dividimos pelo valor presente na diagonal principal\n",
        "    somaCoef /= math.fabs(A[i][i])\n",
        "\n",
        "    # Adiciona o valor na lista de coeficientes\n",
        "    coeficientes.append(somaCoef)\n",
        "  print('Lista de coeficintes: ', coeficientes)\n",
        "  print()\n",
        "\n",
        "  # Busca o maior coeficiente\n",
        "  maiorCoef = max(coeficientes)\n",
        "  print('O maior coeficiente é:', maiorCoef)\n",
        "\n",
        "  if maiorCoef < 1:\n",
        "    print('Para o metodo de Gauss-Jacobi, converge atraves do criterio das linhas')\n",
        "  else:\n",
        "    print('Para o metodo de Gauss-Jacobi, não converge atraves do criterio das linhas')"
      ],
      "execution_count": null,
      "outputs": []
    },
    {
      "cell_type": "markdown",
      "metadata": {
        "id": "X_wH9SCJAemJ"
      },
      "source": [
        "**Função para verificar o critério Sassenfield**"
      ]
    },
    {
      "cell_type": "code",
      "metadata": {
        "id": "EHZqzwot-v7o"
      },
      "source": [
        "import math\n",
        "\n",
        "def criterioSassenfield(A):\n",
        "  print('Verificando criterio de Sassenfield: \\n')\n",
        "\n",
        "  coeficientes = []\n",
        "  for i in range(len(A)):\n",
        "    b = 0\n",
        "    for j in range(len(A)):\n",
        "      if(i != j and i == 0) or i < j:\n",
        "        b += A[i][j]\n",
        "      elif i != j and i != 0:\n",
        "        b += A[i][j]*coeficientes[j]\n",
        "\n",
        "    b /= A[i][i]\n",
        "    coeficientes.append(b)\n",
        "\n",
        "  print('Lista de coeficintes: ', coeficientes)\n",
        "  print()\n",
        "\n",
        "  maiorCoeficiente = max(coeficientes)\n",
        "  print('O maior coeficiente é:', maiorCoeficiente)\n",
        "\n",
        "  if maiorCoeficiente < 1:\n",
        "    print('Para o metodo de Gauss-Seidel, converge atraves do criterio de Sassenfield')\n",
        "  else:\n",
        "    print('Para o metodo de Gauss-Seidel, não converge atraves do criterio de Sassenfield')"
      ],
      "execution_count": null,
      "outputs": []
    },
    {
      "cell_type": "markdown",
      "metadata": {
        "id": "TCO4rR771_wi"
      },
      "source": [
        "**Função para calcular as distâncias relativas**"
      ]
    },
    {
      "cell_type": "code",
      "metadata": {
        "id": "mQ8MajTIpPAi"
      },
      "source": [
        "# Funcao para calcular as distancias relativas\n",
        "def distancias_relativas(lista_atual, lista_erro, erro_distancia_relativa):\n",
        "    maior_atual = max(lista_atual)\n",
        "    maior_erro = max(lista_erro)\n",
        "\n",
        "    distancia = maior_erro / maior_atual\n",
        "    print('Distância relativa: ', distancia)\n",
        "\n",
        "    return distancia >= erro_distancia_relativa"
      ],
      "execution_count": null,
      "outputs": []
    },
    {
      "cell_type": "markdown",
      "metadata": {
        "id": "yeW9H2KE2Jri"
      },
      "source": [
        "**Função para calcular o resíduo r**"
      ]
    },
    {
      "cell_type": "code",
      "metadata": {
        "id": "GupeAzmz2Qi6"
      },
      "source": [
        "# Funcao para calcular o residuo r\n",
        "def residuo(lista_atual, erro):\n",
        "  multi = A.dot(lista_atual)\n",
        "  result = np.subtract(b, multi)\n",
        "\n",
        "  lista = result[0]\n",
        "  print('Vetor residuo: ', lista)\n",
        "  result_abs = abs(lista)\n",
        "\n",
        "  maior_valor = max(result_abs)\n",
        "\n",
        "  return maior_valor >= erro"
      ],
      "execution_count": null,
      "outputs": []
    },
    {
      "cell_type": "markdown",
      "metadata": {
        "id": "8FcMNt9q6Sjq"
      },
      "source": [
        "**Exercício 1.1**\n",
        "\n",
        "![imagem_11.PNG](data:image/png;base64,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)"
      ]
    },
    {
      "cell_type": "code",
      "metadata": {
        "id": "_62E3TeBrjC_",
        "outputId": "76dfbc9b-39da-4777-e21c-a2a14bff9df3",
        "colab": {
          "base_uri": "https://localhost:8080/"
        }
      },
      "source": [
        "import numpy as np\n",
        "\n",
        "# Matriz original\n",
        "A = np.array([[2,-1,0, 0, 0, 0] ,[-1, 2,-1,0, 0, 0], [0,-1 ,2,-1,0, 0], [0,0,-1,2,-1,0], [0,0,0,-1,2,-1] , [0,0,0,0,-1, 2]])\n",
        "\n",
        "# vetor b com o Resultado\n",
        "b = np.array([[1] ,[1], [1], [1], [1], [1]])\n",
        "\n",
        "# Verificando se existe convergencia ou nao\n",
        "criterioLinhas(A)\n",
        "print('------------------------------------------------------------------------------------------------------\\n')\n",
        "criterioSassenfield(A)"
      ],
      "execution_count": null,
      "outputs": [
        {
          "output_type": "stream",
          "text": [
            "Verificando criterio das linhas: \n",
            "\n",
            "Lista de coeficintes:  [0.5, 1.0, 1.0, 1.0, 1.0, 0.5]\n",
            "\n",
            "O maior coeficiente é: 1.0\n",
            "Para o metodo de Gauss-Jacobi, não converge atraves do criterio das linhas\n",
            "------------------------------------------------------------------------------------------------------\n",
            "\n",
            "Verificando criterio de Sassenfield: \n",
            "\n",
            "Lista de coeficintes:  [-0.5, -0.25, -0.375, -0.3125, -0.34375, 0.171875]\n",
            "\n",
            "O maior coeficiente é: 0.171875\n",
            "Para o metodo de Gauss-Seidel, converge atraves do criterio de Sassenfield\n"
          ],
          "name": "stdout"
        }
      ]
    },
    {
      "cell_type": "markdown",
      "metadata": {
        "id": "_fCFY5syCSVo"
      },
      "source": [
        "Como visto acima, o sistema converge para Gauss-Seidel. Portanto iremos aplicar o metodo iterativo de **Gauss Seidel**"
      ]
    },
    {
      "cell_type": "markdown",
      "metadata": {
        "id": "q1U71CGs2WSC"
      },
      "source": [
        "**Gauss Seidel**"
      ]
    },
    {
      "cell_type": "code",
      "metadata": {
        "id": "MLUddhm4cs-V",
        "outputId": "a83d489c-cbe8-4251-c922-c7e70dae5c90",
        "colab": {
          "base_uri": "https://localhost:8080/"
        }
      },
      "source": [
        "\n",
        "# sistema linear\n",
        "f1 = lambda x1,x2,x3,x4,x5,x6: (1 + x2)/2\n",
        "f2 = lambda x1,x2,x3,x4,x5,x6: (1 + x1 + x3)/2\n",
        "f3 = lambda x1,x2,x3,x4,x5,x6: (1 + x2 + x4)/2\n",
        "f4 = lambda x1,x2,x3,x4,x5,x6: (1 + x3 + x5)/2\n",
        "f5 = lambda x1,x2,x3,x4,x5,x6: (1 + x4 + x6)/2\n",
        "f6 = lambda x1,x2,x3,x4,x5,x6: (1 + x5)/2\n",
        "\n",
        "# Chute inicial\n",
        "x1_0 = 5\n",
        "x2_0 = 5\n",
        "x3_0 = 5\n",
        "x4_0 = 5\n",
        "x5_0 = 5\n",
        "x6_0 = 5\n",
        "\n",
        "count = 1\n",
        "\n",
        "# erro maximo\n",
        "erro_distancia_relativa = 0.1\n",
        "erro_residuo = 0.01\n",
        "\n",
        "# iteracao de Gauss Seidel\n",
        "print('Chute inicial: x1: {0}, x2: {1}, x3: {2}, x4: {3}, x5: {4}, x6: {5}'.format(x1_0, x2_0, x3_0, x4_0, x5_0, x6_0))\n",
        "print('\\n--------------------------------------------------------------------------------------------------------------------------------------------\\n')\n",
        "\n",
        "condicao = True\n",
        "distancia = 0\n",
        "\n",
        "while condicao:\n",
        "    print('Iteração ', count)\n",
        "    x1_1 = f1(x1_0, x2_0, x3_0, x4_0, x5_0, x6_0)\n",
        "    x2_1 = f2(x1_1, x2_0, x3_0, x4_0, x5_0, x6_0)\n",
        "    x3_1 = f3(x1_1, x2_1, x3_0, x4_0, x5_0, x6_0)\n",
        "    x4_1 = f4(x1_1, x2_1, x3_1, x4_0, x5_0, x6_0)\n",
        "    x5_1 = f5(x1_1, x2_1, x3_1, x4_1, x5_0, x6_0)\n",
        "    x6_1 = f6(x1_1, x2_1, x3_1, x4_1, x5_1, x6_0)\n",
        "\n",
        "    print('x({0}): [{1}, {2}, {3}, {4}, {5}, {6}]'.format(count, x1_1, x2_1, x3_1, x4_1, x5_1, x6_1))\n",
        "\n",
        "    lista_atual = [x1_1, x2_1, x3_1, x4_1, x5_1, x6_1]\n",
        "\n",
        "    e1 = abs(x1_0 - x1_1);\n",
        "    e2 = abs(x2_0 - x2_1);\n",
        "    e3 = abs(x3_0 - x3_1);\n",
        "    e4 = abs(x4_0 - x4_1);\n",
        "    e5 = abs(x5_0 - x5_1);\n",
        "    e6 = abs(x6_0 - x6_1);\n",
        "\n",
        "    lista_erro = [e1, e2, e3, e4, e5, e6]\n",
        "\n",
        "    condicao_distancia_relativa = distancias_relativas(lista_atual, lista_erro, erro_distancia_relativa)\n",
        "    condicao_residuo = residuo(lista_atual, erro_residuo)\n",
        "\n",
        "    # Verifica condicoes de parada\n",
        "    if (not condicao_distancia_relativa) and (not condicao_residuo):\n",
        "      condicao = False\n",
        "\n",
        "    count += 1\n",
        "    x1_0 = x1_1\n",
        "    x2_0 = x2_1\n",
        "    x3_0 = x3_1\n",
        "    x4_0 = x4_1\n",
        "    x5_0 = x5_1\n",
        "    x6_0 = x6_1\n",
        "    \n",
        "    print('\\n--------------------------------------------------------------------------------------------------------------------------------------------\\n')\n",
        "\n",
        "print('Resultado final: ')\n",
        "print('Total de iterações: ', count - 1)\n",
        "print('x: [{1}, {2}, {3}, {4}, {5}, {6}]'.format(count, x1_1, x2_1, x3_1, x4_1, x5_1, x6_1))"
      ],
      "execution_count": null,
      "outputs": [
        {
          "output_type": "stream",
          "text": [
            "Chute inicial: x1: 5, x2: 5, x3: 5, x4: 5, x5: 5, x6: 5\n",
            "\n",
            "--------------------------------------------------------------------------------------------------------------------------------------------\n",
            "\n",
            "Iteração  1\n",
            "x(1): [3.0, 4.5, 5.25, 5.625, 5.8125, 3.40625]\n",
            "Distância relativa:  0.34408602150537637\n",
            "Vetor residuo:  [-0.5      0.25     0.625    0.8125  -1.59375  0.     ]\n",
            "\n",
            "--------------------------------------------------------------------------------------------------------------------------------------------\n",
            "\n",
            "Iteração  2\n",
            "x(2): [2.75, 4.5, 5.5625, 6.1875, 5.296875, 3.1484375]\n",
            "Distância relativa:  0.09090909090909091\n",
            "Vetor residuo:  [ 0.         0.3125     0.5625    -0.515625  -0.2578125  0.       ]\n",
            "\n",
            "--------------------------------------------------------------------------------------------------------------------------------------------\n",
            "\n",
            "Iteração  3\n",
            "x(3): [2.75, 4.65625, 5.921875, 6.109375, 5.12890625, 3.064453125]\n",
            "Distância relativa:  0.058823529411764705\n",
            "Vetor residuo:  [ 0.15625     0.359375   -0.078125   -0.16796875 -0.08398438  0.        ]\n",
            "\n",
            "--------------------------------------------------------------------------------------------------------------------------------------------\n",
            "\n",
            "Iteração  4\n",
            "x(4): [2.828125, 4.875, 5.9921875, 6.060546875, 5.0625, 3.03125]\n",
            "Distância relativa:  0.03609410248146955\n",
            "Vetor residuo:  [ 0.21875     0.0703125  -0.04882812 -0.06640625 -0.03320312  0.        ]\n",
            "\n",
            "--------------------------------------------------------------------------------------------------------------------------------------------\n",
            "\n",
            "Iteração  5\n",
            "x(5): [2.9375, 4.96484375, 6.0126953125, 6.03759765625, 5.034423828125, 3.0172119140625]\n",
            "Distância relativa:  0.018115649009300443\n",
            "Vetor residuo:  [ 0.08984375  0.02050781 -0.02294922 -0.02807617 -0.01403809  0.        ]\n",
            "\n",
            "--------------------------------------------------------------------------------------------------------------------------------------------\n",
            "\n",
            "Iteração  6\n",
            "x(6): [2.982421875, 4.99755859375, 6.017578125, 6.0260009765625, 5.0216064453125, 3.01080322265625]\n",
            "Distância relativa:  0.007454674364428239\n",
            "Vetor residuo:  [ 0.03271484  0.00488281 -0.01159668 -0.01281738 -0.00640869  0.        ]\n",
            "\n",
            "--------------------------------------------------------------------------------------------------------------------------------------------\n",
            "\n",
            "Iteração  7\n",
            "x(7): [2.998779296875, 5.0081787109375, 6.01708984375, 6.01934814453125, 5.01507568359375, 3.007537841796875]\n",
            "Distância relativa:  0.002717473965991016\n",
            "Vetor residuo:  [ 0.01062012 -0.00048828 -0.00665283 -0.00653076 -0.00326538  0.        ]\n",
            "\n",
            "--------------------------------------------------------------------------------------------------------------------------------------------\n",
            "\n",
            "Iteração  8\n",
            "x(8): [3.00408935546875, 5.010589599609375, 6.0149688720703125, 6.015022277832031, 5.011280059814453, 3.0056400299072266]\n",
            "Distância relativa:  0.0008827994890924796\n",
            "Vetor residuo:  [ 0.00241089 -0.00212097 -0.00432587 -0.00379562 -0.00189781  0.        ]\n",
            "\n",
            "--------------------------------------------------------------------------------------------------------------------------------------------\n",
            "\n",
            "Resultado final: \n",
            "Total de iterações:  8\n",
            "x: [3.00408935546875, 5.010589599609375, 6.0149688720703125, 6.015022277832031, 5.011280059814453, 3.0056400299072266]\n"
          ],
          "name": "stdout"
        }
      ]
    },
    {
      "cell_type": "markdown",
      "metadata": {
        "id": "wuV4QigfC6mi"
      },
      "source": [
        "**Exercício 1.2**\n",
        "\n",
        "![image.png](data:image/png;base64,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)"
      ]
    },
    {
      "cell_type": "code",
      "metadata": {
        "id": "mJiE283IDYl8",
        "outputId": "2de2accb-b3eb-4c1d-9ecb-d8861af41d23",
        "colab": {
          "base_uri": "https://localhost:8080/"
        }
      },
      "source": [
        "import numpy as np\n",
        "\n",
        "# Matriz original\n",
        "A = np.array([[-2, 0.5, 0, 0, 0, 0], [0.5, -2, 0.5, 0, 0, 0], [0, 0.5 ,-2, 0.5, 0, 0], [0, 0, 0.5, -2, 0.5, 0], [0, 0, 0, 0.5, -2, 0.5] , [0, 0, 0, 0, 0.5, -2]])\n",
        "\n",
        "# vetor b com o Resultado\n",
        "b = np.array([[1] ,[1], [1], [1], [1], [1]])\n",
        "\n",
        "# Verificando se existe convergencia ou nao\n",
        "criterioLinhas(A)\n",
        "print('------------------------------------------------------------------------------------------------------\\n')\n",
        "criterioSassenfield(A)"
      ],
      "execution_count": null,
      "outputs": [
        {
          "output_type": "stream",
          "text": [
            "Verificando criterio das linhas: \n",
            "\n",
            "Lista de coeficintes:  [0.25, 0.5, 0.5, 0.5, 0.5, 0.25]\n",
            "\n",
            "O maior coeficiente é: 0.5\n",
            "Para o metodo de Gauss-Jacobi, converge atraves do criterio das linhas\n",
            "------------------------------------------------------------------------------------------------------\n",
            "\n",
            "Verificando criterio de Sassenfield: \n",
            "\n",
            "Lista de coeficintes:  [-0.25, -0.1875, -0.203125, -0.19921875, -0.2001953125, 0.050048828125]\n",
            "\n",
            "O maior coeficiente é: 0.050048828125\n",
            "Para o metodo de Gauss-Seidel, converge atraves do criterio de Sassenfield\n"
          ],
          "name": "stdout"
        }
      ]
    },
    {
      "cell_type": "markdown",
      "metadata": {
        "id": "hSs11hEWSIL_"
      },
      "source": [
        "Fazendo a iteração através do método de Gauss Jacobi"
      ]
    },
    {
      "cell_type": "markdown",
      "metadata": {
        "id": "1llJ1oUV3fIk"
      },
      "source": [
        "**Gauss Jacobi**"
      ]
    },
    {
      "cell_type": "code",
      "metadata": {
        "id": "EXy626xH3qYy",
        "outputId": "e0a2b492-c026-4978-abde-85e68b230431",
        "colab": {
          "base_uri": "https://localhost:8080/"
        }
      },
      "source": [
        "# Sistema linear\n",
        "f1 = lambda x1,x2,x3,x4,x5,x6: (1 - (0.5 * x2)) / (-2)\n",
        "f2 = lambda x1,x2,x3,x4,x5,x6: (1 - (0.5 * x1) - (0.5* x3)) / (-2)\n",
        "f3 = lambda x1,x2,x3,x4,x5,x6: (1 - (0.5 * x2) - (0.5* x4)) / (-2)\n",
        "f4 = lambda x1,x2,x3,x4,x5,x6: (1 - (0.5 * x3) - (0.5* x5)) / (-2)\n",
        "f5 = lambda x1,x2,x3,x4,x5,x6: (1 - (0.5 * x4) - (0.5* x6)) / (-2)\n",
        "f6 = lambda x1,x2,x3,x4,x5,x6: (1 - (0.5 * x5)) / (-2)\n",
        "\n",
        "# Setup inicial\n",
        "x1_0 = 5\n",
        "x2_0 = 5\n",
        "x3_0 = 5\n",
        "x4_0 = 5\n",
        "x5_0 = 5\n",
        "x6_0 = 5\n",
        "\n",
        "count = 1\n",
        "\n",
        "# Erro maximo\n",
        "erro_distancia_relativa = 0.1\n",
        "erro_residuo = 0.01\n",
        "\n",
        "# iteracao de Gauss Jacobi\n",
        "print('Chute inicial: x1: {0}, x2: {1}, x3: {2}, x4: {3}, x5: {4}, x6: {5}'.format(x1_0, x2_0, x3_0, x4_0, x5_0, x6_0))\n",
        "print('\\n--------------------------------------------------------------------------------------------------------------------------------------------\\n')\n",
        "\n",
        "condicao = True\n",
        "distancia = 0\n",
        "\n",
        "while condicao:\n",
        "    x1_1 = f1(x1_0, x2_0, x3_0, x4_0, x5_0, x6_0)\n",
        "    x2_1 = f2(x1_0, x2_0, x3_0, x4_0, x5_0, x6_0)\n",
        "    x3_1 = f3(x1_0, x2_0, x3_0, x4_0, x5_0, x6_0)\n",
        "    x4_1 = f4(x1_0, x2_0, x3_0, x4_0, x5_0, x6_0)\n",
        "    x5_1 = f5(x1_0, x2_0, x3_0, x4_0, x5_0, x6_0)\n",
        "    x6_1 = f6(x1_0, x2_0, x3_0, x4_0, x5_0, x6_0)\n",
        "\n",
        "    print('x({0}): [{1}, {2}, {3}, {4}, {5}, {6}]'.format(count, x1_1, x2_1, x3_1, x4_1, x5_1, x6_1))\n",
        "\n",
        "    lista_atual = [x1_1, x2_1, x3_1, x4_1, x5_1, x6_1]\n",
        "\n",
        "    e1 = abs(x1_0 - x1_1);\n",
        "    e2 = abs(x2_0 - x2_1);\n",
        "    e3 = abs(x3_0 - x3_1);\n",
        "    e4 = abs(x4_0 - x4_1);\n",
        "    e5 = abs(x5_0 - x5_1);\n",
        "    e6 = abs(x6_0 - x6_1);\n",
        "    \n",
        "    condicao_distancia_relativa = distancias_relativas(lista_atual, lista_erro, erro_distancia_relativa)\n",
        "    condicao_residuo = residuo(lista_atual, erro_residuo)\n",
        "\n",
        "    # Verifica condicoes de parada\n",
        "    if (not condicao_distancia_relativa) and (not condicao_residuo):\n",
        "      condicao = False\n",
        "\n",
        "    count += 1\n",
        "    x1_0 = x1_1\n",
        "    x2_0 = x2_1\n",
        "    x3_0 = x3_1\n",
        "    x4_0 = x4_1\n",
        "    x5_0 = x5_1\n",
        "    x6_0 = x6_1\n",
        "\n",
        "    print('\\n--------------------------------------------------------------------------------------------------------------------------------------------\\n')\n",
        "\n",
        "print('Resultado final: ')\n",
        "print('Total de iterações: ', count - 1)\n",
        "print('x: [{1}, {2}, {3}, {4}, {5}, {6}]'.format(count, x1_1, x2_1, x3_1, x4_1, x5_1, x6_1))"
      ],
      "execution_count": null,
      "outputs": [
        {
          "output_type": "stream",
          "text": [
            "Chute inicial: x1: 5, x2: 5, x3: 5, x4: 5, x5: 5, x6: 5\n",
            "\n",
            "--------------------------------------------------------------------------------------------------------------------------------------------\n",
            "\n",
            "x(1): [0.75, 2.0, 2.0, 2.0, 2.0, 0.75]\n",
            "Distância relativa:  0.002655029296875\n",
            "Vetor residuo:  [1.5   3.625 3.    3.    3.625 1.5  ]\n",
            "\n",
            "--------------------------------------------------------------------------------------------------------------------------------------------\n",
            "\n",
            "x(2): [-0.0, 0.1875, 0.5, 0.5, 0.1875, -0.0]\n",
            "Distância relativa:  0.0106201171875\n",
            "Vetor residuo:  [0.90625 1.125   1.65625 1.65625 1.125   0.90625]\n",
            "\n",
            "--------------------------------------------------------------------------------------------------------------------------------------------\n",
            "\n",
            "x(3): [-0.453125, -0.375, -0.328125, -0.328125, -0.375, -0.453125]\n",
            "Distância relativa:  -0.016183035714285716\n",
            "Vetor residuo:  [0.28125   0.640625  0.6953125 0.6953125 0.640625  0.28125  ]\n",
            "\n",
            "--------------------------------------------------------------------------------------------------------------------------------------------\n",
            "\n",
            "x(4): [-0.59375, -0.6953125, -0.67578125, -0.67578125, -0.6953125, -0.59375]\n",
            "Distância relativa:  -0.008943256578947368\n",
            "Vetor residuo:  [0.16015625 0.24414062 0.33398438 0.33398438 0.24414062 0.16015625]\n",
            "\n",
            "--------------------------------------------------------------------------------------------------------------------------------------------\n",
            "\n",
            "x(5): [-0.673828125, -0.8173828125, -0.8427734375, -0.8427734375, -0.8173828125, -0.673828125]\n",
            "Distância relativa:  -0.007880434782608695\n",
            "Vetor residuo:  [0.06103516 0.12353516 0.14453125 0.14453125 0.12353516 0.06103516]\n",
            "\n",
            "--------------------------------------------------------------------------------------------------------------------------------------------\n",
            "\n",
            "x(6): [-0.704345703125, -0.879150390625, -0.9150390625, -0.9150390625, -0.879150390625, -0.704345703125]\n",
            "Distância relativa:  -0.007538994800693241\n",
            "Vetor residuo:  [0.03088379 0.0513916  0.0670166  0.0670166  0.0513916  0.03088379]\n",
            "\n",
            "--------------------------------------------------------------------------------------------------------------------------------------------\n",
            "\n",
            "x(7): [-0.71978759765625, -0.90484619140625, -0.94854736328125, -0.94854736328125, -0.90484619140625, -0.71978759765625]\n",
            "Distância relativa:  -0.00737725769524294\n",
            "Vetor residuo:  [0.0128479  0.0244751  0.02960205 0.02960205 0.0244751  0.0128479 ]\n",
            "\n",
            "--------------------------------------------------------------------------------------------------------------------------------------------\n",
            "\n",
            "x(8): [-0.7262115478515625, -0.917083740234375, -0.963348388671875, -0.963348388671875, -0.917083740234375, -0.7262115478515625]\n",
            "Distância relativa:  -0.007311999663816108\n",
            "Vetor residuo:  [0.00611877 0.01061249 0.01351929 0.01351929 0.01061249 0.00611877]\n",
            "\n",
            "--------------------------------------------------------------------------------------------------------------------------------------------\n",
            "\n",
            "x(9): [-0.7292709350585938, -0.9223899841308594, -0.9701080322265625, -0.9701080322265625, -0.9223899841308594, -0.7292709350585938]\n",
            "Distância relativa:  -0.007281324866352119\n",
            "Vetor residuo:  [0.00265312 0.00490952 0.00603294 0.00603294 0.00490952 0.00265312]\n",
            "\n",
            "--------------------------------------------------------------------------------------------------------------------------------------------\n",
            "\n",
            "Resultado final: \n",
            "Total de iterações:  9\n",
            "x: [-0.7292709350585938, -0.9223899841308594, -0.9701080322265625, -0.9701080322265625, -0.9223899841308594, -0.7292709350585938]\n"
          ],
          "name": "stdout"
        }
      ]
    },
    {
      "cell_type": "markdown",
      "metadata": {
        "id": "ejN-5Kp0IixQ"
      },
      "source": [
        "**Exercício 1.3**\n",
        "\n",
        "![image.png](data:image/png;base64,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)"
      ]
    },
    {
      "cell_type": "code",
      "metadata": {
        "id": "YDVbD746IwyH",
        "outputId": "4d4070a0-2901-4ac5-9243-72c606a7f9cb",
        "colab": {
          "base_uri": "https://localhost:8080/"
        }
      },
      "source": [
        "import numpy as np\n",
        "\n",
        "# Matriz original\n",
        "A = np.array([[2, 2, 0, 0, 0, 0], [2, 2, 2, 0, 0, 0], [0, 2 ,2, 2, 0, 0], [0, 0, 2, 2, 2, 0], [0, 0, 0, 2, 2, 2] , [0, 0, 0, 0, 2, 2]])\n",
        "\n",
        "# vetor b com o Resultado\n",
        "b = np.array([[1] ,[1], [1], [1], [1], [1]])\n",
        "\n",
        "# Verificando se existe convergencia ou nao\n",
        "criterioLinhas(A)\n",
        "print('------------------------------------------------------------------------------------------------------\\n')\n",
        "criterioSassenfield(A)"
      ],
      "execution_count": null,
      "outputs": [
        {
          "output_type": "stream",
          "text": [
            "Verificando criterio das linhas: \n",
            "\n",
            "Lista de coeficintes:  [1.0, 2.0, 2.0, 2.0, 2.0, 1.0]\n",
            "\n",
            "O maior coeficiente é: 2.0\n",
            "Para o metodo de Gauss-Jacobi, não converge atraves do criterio das linhas\n",
            "------------------------------------------------------------------------------------------------------\n",
            "\n",
            "Verificando criterio de Sassenfield: \n",
            "\n",
            "Lista de coeficintes:  [1.0, 2.0, 3.0, 4.0, 5.0, 5.0]\n",
            "\n",
            "O maior coeficiente é: 5.0\n",
            "Para o metodo de Gauss-Seidel, não converge atraves do criterio de Sassenfield\n"
          ],
          "name": "stdout"
        }
      ]
    },
    {
      "cell_type": "markdown",
      "metadata": {
        "id": "oiEafu_dJp8H"
      },
      "source": [
        "Como visto acima, o sistema não converge para ambos os métodos."
      ]
    }
  ]
}